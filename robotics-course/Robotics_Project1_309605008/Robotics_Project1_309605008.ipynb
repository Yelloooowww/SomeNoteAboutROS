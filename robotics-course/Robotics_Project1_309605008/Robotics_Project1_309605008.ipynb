{
  "nbformat": 4,
  "nbformat_minor": 0,
  "metadata": {
    "colab": {
      "name": "ROBP1.ipynb",
      "provenance": [],
      "collapsed_sections": []
    },
    "kernelspec": {
      "name": "python3",
      "display_name": "Python 3"
    }
  },
  "cells": [
    {
      "cell_type": "markdown",
      "metadata": {
        "id": "vldetPnjPXyw"
      },
      "source": [
        "# forward kinematics\n",
        "input: joint variables, output: Cartesian point (n, o, a, p) and (x, y, z, φ, θ, ψ)."
      ]
    },
    {
      "cell_type": "code",
      "metadata": {
        "id": "0O5vUwTwPVTK"
      },
      "source": [
        "theta_input=[50,50,50,50,50,50]"
      ],
      "execution_count": 204,
      "outputs": []
    },
    {
      "cell_type": "markdown",
      "metadata": {
        "id": "mi8008gRPbvu"
      },
      "source": [
        "output: Cartesian point (n, o, a, p) and (x, y, z, φ, θ, ψ)."
      ]
    },
    {
      "cell_type": "code",
      "metadata": {
        "colab": {
          "base_uri": "https://localhost:8080/"
        },
        "id": "NcEtPiZraNNV",
        "outputId": "10f8bcd6-2db7-4cbe-de71-64de6ad0aeaf"
      },
      "source": [
        "from math import sin,cos,pi,radians,atan2,atan,sqrt,asin,acos\n",
        "import numpy as np\n",
        "\n",
        "#setting\n",
        "d=[0,0,0.149,0.433,0,0]\n",
        "a=[0,0.432,-0.02,0,0,0]\n",
        "alpha=[-0.5*pi, 0, 0.5*pi, -0.5*pi, 0.5*pi, 0]\n",
        "theta=np.radians(theta_input)\n",
        "\n",
        "#transform matrix(frame i+1 relate to i)\n",
        "def A(i):\n",
        "  matrix=np.array([[cos(theta[i])  ,  -sin(theta[i])*cos(alpha[i])   ,  sin(theta[i])*sin(alpha[i])   ,  a[i]*cos(theta[i])  ],\n",
        "                   [sin(theta[i])  ,  cos(theta[i])*cos(alpha[i])    ,  -cos(theta[i])*sin(alpha[i])  ,  a[i]*sin(theta[i])  ],\n",
        "                   [0              ,  sin(alpha[i])                  ,  cos(alpha[i])                 ,  d[i]                ],\n",
        "                   [0              ,  0                              ,  0                             ,  1                   ]])\n",
        "  return matrix \n",
        "\n",
        "#iterate to fin the transform matrix(frame 6 relate to 1)\n",
        "Cartesian_point=np.identity(4)\n",
        "for i in range(0,6):\n",
        "  Cartesian_point=np.dot(Cartesian_point,A(i))\n",
        "\n",
        "#Computation of the Orientation Angles and Position\n",
        "x=Cartesian_point[0][3]\n",
        "y=Cartesian_point[1][3]\n",
        "z=Cartesian_point[2][3]\n",
        "phi = atan(Cartesian_point[1][2]/Cartesian_point[0][2])+pi\n",
        "thetaa = atan((cos(phi)*Cartesian_point[0][2] + sin(phi)*Cartesian_point[1][2])/Cartesian_point[2][2])+pi\n",
        "psi = atan((-sin(phi)*Cartesian_point[0][0] + cos(phi)*Cartesian_point[1][0])/(-sin(phi)*Cartesian_point[0][1] + cos(phi)*Cartesian_point[1][1]))+pi\n",
        "output=np.array([x,y,z, phi*180/pi, thetaa*180/pi, psi*180/pi])\n",
        "\n",
        "#print Ans\n",
        "np.set_printoptions(precision=4)\n",
        "print(\"Cartesian_point(n,o,a,p)=\")\n",
        "print(Cartesian_point)\n",
        "print(\"\\n (x, y, z, φ, θ, ψ)=\",output)"
      ],
      "execution_count": 205,
      "outputs": [
        {
          "output_type": "stream",
          "text": [
            "Cartesian_point(n,o,a,p)=\n",
            "[[-0.8955  0.4342 -0.0976  0.3407]\n",
            " [ 0.1912  0.5734  0.7966  0.6378]\n",
            " [ 0.4019  0.6947 -0.5965 -0.3864]\n",
            " [ 0.      0.      0.      1.    ]]\n",
            "\n",
            " (x, y, z, φ, θ, ψ)= [  0.3407   0.6378  -0.3864  96.9846 126.6226 120.0473]\n"
          ],
          "name": "stdout"
        }
      ]
    },
    {
      "cell_type": "markdown",
      "metadata": {
        "id": "HkAnrtuTTl3S"
      },
      "source": [
        "# inverse kinematics\n",
        "input: Cartesian point (n, o, a, p)*italicized text*"
      ]
    },
    {
      "cell_type": "code",
      "metadata": {
        "id": "6uG-vBY6Tv8q"
      },
      "source": [
        "Cartesian_point=np.array([[-0.895511    ,0.43420623  ,-0.09759607  ,0.34068237],\n",
        "                          [ 0.19121987  ,0.57343036  ,0.79662575   ,0.63781229],\n",
        "                          [ 0.40186441  ,0.69472482  ,-0.59654205  ,-0.38642471],\n",
        "                          [ 0.          ,0.          ,0.           ,1.        ]] )"
      ],
      "execution_count": 206,
      "outputs": []
    },
    {
      "cell_type": "markdown",
      "metadata": {
        "id": "46RJl4FsTrbr"
      },
      "source": [
        "output: the corresponding joint variables."
      ]
    },
    {
      "cell_type": "code",
      "metadata": {
        "colab": {
          "base_uri": "https://localhost:8080/"
        },
        "id": "BjHinmwVjZ2k",
        "outputId": "36c08af8-70de-4334-a1a8-29344dafbe1d"
      },
      "source": [
        "from math import sin,cos,pi,radians,atan2,sqrt,asin,acos\n",
        "import numpy as np\n",
        "\n",
        "#restrict of the corresponding_joint_variables\n",
        "def check_output(var_array):\n",
        "  var_range=[160,125,135,140,100,260]\n",
        "  for i in range(var_array.size):\n",
        "    if var_array[i]>var_range[i] or var_array[i]<-var_range[i]:\n",
        "      print('!!!  θ',i+1,'  is out od range  !!!')\n",
        "\n",
        "\n",
        "\n",
        "\n",
        "\n",
        "\n",
        "\n",
        "\n",
        "f11=Cartesian_point[0][0]\n",
        "f12=Cartesian_point[0][1]\n",
        "f13=Cartesian_point[0][2]\n",
        "px=Cartesian_point[0][3]\n",
        "\n",
        "f21=Cartesian_point[1][0]\n",
        "f22=Cartesian_point[1][1]\n",
        "f23=Cartesian_point[1][2]\n",
        "py=Cartesian_point[1][3]\n",
        "\n",
        "f31=Cartesian_point[2][0]\n",
        "f32=Cartesian_point[2][1]\n",
        "f33=Cartesian_point[2][2]\n",
        "pz=Cartesian_point[2][3]\n",
        "\n",
        "# 8 solutions totally\n",
        "for c1 in range(2):#2 solutions of theta1\n",
        "  for c3 in range(2):#2 solutions of theta3\n",
        "    for c5 in range(2):#2 solutions of theta5\n",
        "      d3=d[3-1]\n",
        "      if c1==0:\n",
        "        cta1=atan2(py,px)-atan2(d3, sqrt(px**2+py**2-d3**2))\n",
        "      else:\n",
        "        cta1=atan2(py,px)-atan2(d3, -sqrt(px**2+py**2-d3**2))\n",
        "\n",
        "\n",
        "      a2=a[2-1]\n",
        "      a3=a[3-1]\n",
        "      d3=d[3-1]\n",
        "      d4=d[4-1]\n",
        "      M=(px**2+py**2+pz**2-a2**2-a3**2-d3**2-d4**2)/(2*a2)\n",
        "      if c3==0:\n",
        "        cta3=atan2(M,sqrt(a3**2+d4**2-M**2))-atan2(a3,d4)\n",
        "      else:\n",
        "        cta3=atan2(M,-sqrt(a3**2+d4**2-M**2))-atan2(a3,d4)\n",
        "\n",
        "\n",
        "\n",
        "      TMP=np.array([[cos(cta1)*px+sin(cta1)*py,-pz],[pz,cos(cta1)*px+sin(cta1)*py]])\n",
        "      TMP_inv=np.linalg.inv(TMP)\n",
        "      matrix23=np.dot(TMP_inv, np.array([[a3+a2*cos(cta3)],[d4+a2*sin(cta3)]]))\n",
        "      cta23=atan2(matrix23[1],matrix23[0])\n",
        "      cta2=cta23-cta3\n",
        " \n",
        "\n",
        "\n",
        "      if c5==0:\n",
        "        cta5=acos( cos(cta1)*sin(cta23)*f13+sin(cta1)*sin(cta23)*f23+cos(cta23)*f33 )\n",
        "      else:\n",
        "        cta5=-acos(cos(cta1)*sin(cta23)*f13+sin(cta1)*sin(cta23)*f23+cos(cta23)*f33)\n",
        " \n",
        "\n",
        "\n",
        "      c4s5 = cos(cta1)*cos(cta23)*f13 + sin(cta1)*cos(cta23)*f23 - sin(cta23)*f33;\n",
        "      s4s5 = -sin(cta1)*f13 + cos(cta1)*f23;\n",
        "      s5c6 = -1*(cos(cta1)*sin(cta23)*f11+sin(cta1)*sin(cta23)*f21+cos(cta23)*f31);\n",
        "      s5s6 = (cos(cta1)*sin(cta23)*f12+sin(cta1)*sin(cta23)*f22+cos(cta23)*f32);\n",
        "      cta4 = atan2(s4s5, c4s5);\n",
        "      cta6 = atan2(s5s6, s5c6);\n",
        "      if cta5<0:\n",
        "        if cta4>=0:cta4=cta4-pi \n",
        "        else :cta4=cta4+pi \n",
        "        if cta6>=0:cta6=cta6-pi \n",
        "        else :cta6=cta6+pi \n",
        "\n",
        "\n",
        "\n",
        "\n",
        "\n",
        "      corresponding_joint_variables=np.array([cta1,cta2,cta3,cta4,cta5,cta6])*180/pi \n",
        "      np.set_printoptions(precision=4)\n",
        "      print(\"corresponding_joint_variables=\",corresponding_joint_variables)\n",
        "      check_output(corresponding_joint_variables)\n",
        "      print('---------------------------------------------------------------------------------------------------------')"
      ],
      "execution_count": 207,
      "outputs": [
        {
          "output_type": "stream",
          "text": [
            "corresponding_joint_variables= [50. 50. 50. 50. 50. 50.]\n",
            "---------------------------------------------------------------------------------------------------------\n",
            "corresponding_joint_variables= [  50.   50.   50. -130.  -50. -130.]\n",
            "---------------------------------------------------------------------------------------------------------\n",
            "corresponding_joint_variables= [ 50.       7.2799 135.2892  97.0136  36.2456 -11.2196]\n",
            "!!!  θ 3   is out od range  !!!\n",
            "---------------------------------------------------------------------------------------------------------\n",
            "corresponding_joint_variables= [ 50.       7.2799 135.2892 -82.9864 -36.2456 168.7804]\n",
            "!!!  θ 3   is out od range  !!!\n",
            "---------------------------------------------------------------------------------------------------------\n",
            "corresponding_joint_variables= [-106.2171 -187.2799   50.      -66.5364   20.1631   -9.1114]\n",
            "!!!  θ 2   is out od range  !!!\n",
            "---------------------------------------------------------------------------------------------------------\n",
            "corresponding_joint_variables= [-106.2171 -187.2799   50.      113.4636  -20.1631  170.8886]\n",
            "!!!  θ 2   is out od range  !!!\n",
            "---------------------------------------------------------------------------------------------------------\n",
            "corresponding_joint_variables= [-106.2171 -230.      135.2892 -149.3667   38.3558   80.7952]\n",
            "!!!  θ 2   is out od range  !!!\n",
            "!!!  θ 3   is out od range  !!!\n",
            "!!!  θ 4   is out od range  !!!\n",
            "---------------------------------------------------------------------------------------------------------\n",
            "corresponding_joint_variables= [-106.2171 -230.      135.2892   30.6333  -38.3558  -99.2048]\n",
            "!!!  θ 2   is out od range  !!!\n",
            "!!!  θ 3   is out od range  !!!\n",
            "---------------------------------------------------------------------------------------------------------\n"
          ],
          "name": "stdout"
        }
      ]
    },
    {
      "cell_type": "code",
      "metadata": {
        "id": "FHYokZkclSNr"
      },
      "source": [
        ""
      ],
      "execution_count": 207,
      "outputs": []
    }
  ]
}